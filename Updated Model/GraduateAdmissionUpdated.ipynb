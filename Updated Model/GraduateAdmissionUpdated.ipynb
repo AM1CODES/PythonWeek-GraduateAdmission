{
 "cells": [
  {
   "cell_type": "code",
   "execution_count": 1,
   "metadata": {
    "_cell_guid": "b1076dfc-b9ad-4769-8c92-a6c4dae69d19",
    "_uuid": "8f2839f25d086af736a60e9eeb907d3b93b6e0e5",
    "execution": {
     "iopub.execute_input": "2021-01-09T15:39:52.520865Z",
     "iopub.status.busy": "2021-01-09T15:39:52.520222Z",
     "iopub.status.idle": "2021-01-09T15:39:53.412664Z",
     "shell.execute_reply": "2021-01-09T15:39:53.412012Z"
    },
    "papermill": {
     "duration": 0.919622,
     "end_time": "2021-01-09T15:39:53.412777",
     "exception": false,
     "start_time": "2021-01-09T15:39:52.493155",
     "status": "completed"
    },
    "tags": []
   },
   "outputs": [
    {
     "name": "stdout",
     "output_type": "stream",
     "text": [
      "/kaggle/input/graduate-admissions/Admission_Predict.csv\n",
      "/kaggle/input/graduate-admissions/Admission_Predict_Ver1.1.csv\n"
     ]
    }
   ],
   "source": [
    "import numpy as np # linear algebra\n",
    "import pandas as pd # data processing, CSV file I/O (e.g. pd.read_csv)\n",
    "import os\n",
    "for dirname, _, filenames in os.walk('/kaggle/input'):\n",
    "    for filename in filenames:\n",
    "        print(os.path.join(dirname, filename))\n",
    "import matplotlib.pyplot as plt\n",
    "import seaborn as sns"
   ]
  },
  {
   "cell_type": "code",
   "execution_count": 2,
   "metadata": {
    "_cell_guid": "79c7e3d0-c299-4dcb-8224-4455121ee9b0",
    "_uuid": "d629ff2d2480ee46fbb7e2d37f6b5fab8052498a",
    "execution": {
     "iopub.execute_input": "2021-01-09T15:39:53.458853Z",
     "iopub.status.busy": "2021-01-09T15:39:53.458179Z",
     "iopub.status.idle": "2021-01-09T15:39:53.469368Z",
     "shell.execute_reply": "2021-01-09T15:39:53.468846Z"
    },
    "papermill": {
     "duration": 0.036531,
     "end_time": "2021-01-09T15:39:53.469468",
     "exception": false,
     "start_time": "2021-01-09T15:39:53.432937",
     "status": "completed"
    },
    "tags": []
   },
   "outputs": [],
   "source": [
    "df = pd.read_csv('/kaggle/input/graduate-admissions/Admission_Predict.csv')"
   ]
  },
  {
   "cell_type": "code",
   "execution_count": 3,
   "metadata": {
    "execution": {
     "iopub.execute_input": "2021-01-09T15:39:53.528270Z",
     "iopub.status.busy": "2021-01-09T15:39:53.527345Z",
     "iopub.status.idle": "2021-01-09T15:39:53.536524Z",
     "shell.execute_reply": "2021-01-09T15:39:53.536098Z"
    },
    "papermill": {
     "duration": 0.047016,
     "end_time": "2021-01-09T15:39:53.536631",
     "exception": false,
     "start_time": "2021-01-09T15:39:53.489615",
     "status": "completed"
    },
    "tags": []
   },
   "outputs": [
    {
     "data": {
      "text/html": [
       "<div>\n",
       "<style scoped>\n",
       "    .dataframe tbody tr th:only-of-type {\n",
       "        vertical-align: middle;\n",
       "    }\n",
       "\n",
       "    .dataframe tbody tr th {\n",
       "        vertical-align: top;\n",
       "    }\n",
       "\n",
       "    .dataframe thead th {\n",
       "        text-align: right;\n",
       "    }\n",
       "</style>\n",
       "<table border=\"1\" class=\"dataframe\">\n",
       "  <thead>\n",
       "    <tr style=\"text-align: right;\">\n",
       "      <th></th>\n",
       "      <th>Serial No.</th>\n",
       "      <th>GRE Score</th>\n",
       "      <th>TOEFL Score</th>\n",
       "      <th>University Rating</th>\n",
       "      <th>SOP</th>\n",
       "      <th>LOR</th>\n",
       "      <th>CGPA</th>\n",
       "      <th>Research</th>\n",
       "      <th>Chance of Admit</th>\n",
       "    </tr>\n",
       "  </thead>\n",
       "  <tbody>\n",
       "    <tr>\n",
       "      <th>0</th>\n",
       "      <td>1</td>\n",
       "      <td>337</td>\n",
       "      <td>118</td>\n",
       "      <td>4</td>\n",
       "      <td>4.5</td>\n",
       "      <td>4.5</td>\n",
       "      <td>9.65</td>\n",
       "      <td>1</td>\n",
       "      <td>0.92</td>\n",
       "    </tr>\n",
       "    <tr>\n",
       "      <th>1</th>\n",
       "      <td>2</td>\n",
       "      <td>324</td>\n",
       "      <td>107</td>\n",
       "      <td>4</td>\n",
       "      <td>4.0</td>\n",
       "      <td>4.5</td>\n",
       "      <td>8.87</td>\n",
       "      <td>1</td>\n",
       "      <td>0.76</td>\n",
       "    </tr>\n",
       "    <tr>\n",
       "      <th>2</th>\n",
       "      <td>3</td>\n",
       "      <td>316</td>\n",
       "      <td>104</td>\n",
       "      <td>3</td>\n",
       "      <td>3.0</td>\n",
       "      <td>3.5</td>\n",
       "      <td>8.00</td>\n",
       "      <td>1</td>\n",
       "      <td>0.72</td>\n",
       "    </tr>\n",
       "    <tr>\n",
       "      <th>3</th>\n",
       "      <td>4</td>\n",
       "      <td>322</td>\n",
       "      <td>110</td>\n",
       "      <td>3</td>\n",
       "      <td>3.5</td>\n",
       "      <td>2.5</td>\n",
       "      <td>8.67</td>\n",
       "      <td>1</td>\n",
       "      <td>0.80</td>\n",
       "    </tr>\n",
       "    <tr>\n",
       "      <th>4</th>\n",
       "      <td>5</td>\n",
       "      <td>314</td>\n",
       "      <td>103</td>\n",
       "      <td>2</td>\n",
       "      <td>2.0</td>\n",
       "      <td>3.0</td>\n",
       "      <td>8.21</td>\n",
       "      <td>0</td>\n",
       "      <td>0.65</td>\n",
       "    </tr>\n",
       "  </tbody>\n",
       "</table>\n",
       "</div>"
      ],
      "text/plain": [
       "   Serial No.  GRE Score  TOEFL Score  University Rating  SOP  LOR   CGPA  \\\n",
       "0           1        337          118                  4  4.5   4.5  9.65   \n",
       "1           2        324          107                  4  4.0   4.5  8.87   \n",
       "2           3        316          104                  3  3.0   3.5  8.00   \n",
       "3           4        322          110                  3  3.5   2.5  8.67   \n",
       "4           5        314          103                  2  2.0   3.0  8.21   \n",
       "\n",
       "   Research  Chance of Admit   \n",
       "0         1              0.92  \n",
       "1         1              0.76  \n",
       "2         1              0.72  \n",
       "3         1              0.80  \n",
       "4         0              0.65  "
      ]
     },
     "execution_count": 3,
     "metadata": {},
     "output_type": "execute_result"
    }
   ],
   "source": [
    "df.head()"
   ]
  },
  {
   "cell_type": "code",
   "execution_count": 4,
   "metadata": {
    "execution": {
     "iopub.execute_input": "2021-01-09T15:39:53.586803Z",
     "iopub.status.busy": "2021-01-09T15:39:53.586222Z",
     "iopub.status.idle": "2021-01-09T15:39:53.592114Z",
     "shell.execute_reply": "2021-01-09T15:39:53.592533Z"
    },
    "papermill": {
     "duration": 0.035449,
     "end_time": "2021-01-09T15:39:53.592659",
     "exception": false,
     "start_time": "2021-01-09T15:39:53.557210",
     "status": "completed"
    },
    "tags": []
   },
   "outputs": [
    {
     "name": "stdout",
     "output_type": "stream",
     "text": [
      "<class 'pandas.core.frame.DataFrame'>\n",
      "RangeIndex: 400 entries, 0 to 399\n",
      "Data columns (total 9 columns):\n",
      " #   Column             Non-Null Count  Dtype  \n",
      "---  ------             --------------  -----  \n",
      " 0   Serial No.         400 non-null    int64  \n",
      " 1   GRE Score          400 non-null    int64  \n",
      " 2   TOEFL Score        400 non-null    int64  \n",
      " 3   University Rating  400 non-null    int64  \n",
      " 4   SOP                400 non-null    float64\n",
      " 5   LOR                400 non-null    float64\n",
      " 6   CGPA               400 non-null    float64\n",
      " 7   Research           400 non-null    int64  \n",
      " 8   Chance of Admit    400 non-null    float64\n",
      "dtypes: float64(4), int64(5)\n",
      "memory usage: 28.2 KB\n"
     ]
    }
   ],
   "source": [
    "df.info()"
   ]
  },
  {
   "cell_type": "code",
   "execution_count": 5,
   "metadata": {
    "execution": {
     "iopub.execute_input": "2021-01-09T15:39:53.640722Z",
     "iopub.status.busy": "2021-01-09T15:39:53.639976Z",
     "iopub.status.idle": "2021-01-09T15:39:53.643932Z",
     "shell.execute_reply": "2021-01-09T15:39:53.643371Z"
    },
    "papermill": {
     "duration": 0.030783,
     "end_time": "2021-01-09T15:39:53.644032",
     "exception": false,
     "start_time": "2021-01-09T15:39:53.613249",
     "status": "completed"
    },
    "tags": []
   },
   "outputs": [
    {
     "data": {
      "text/plain": [
       "Serial No.           0\n",
       "GRE Score            0\n",
       "TOEFL Score          0\n",
       "University Rating    0\n",
       "SOP                  0\n",
       "LOR                  0\n",
       "CGPA                 0\n",
       "Research             0\n",
       "Chance of Admit      0\n",
       "dtype: int64"
      ]
     },
     "execution_count": 5,
     "metadata": {},
     "output_type": "execute_result"
    }
   ],
   "source": [
    "df.isnull().sum()"
   ]
  },
  {
   "cell_type": "code",
   "execution_count": 6,
   "metadata": {
    "execution": {
     "iopub.execute_input": "2021-01-09T15:39:53.696011Z",
     "iopub.status.busy": "2021-01-09T15:39:53.695122Z",
     "iopub.status.idle": "2021-01-09T15:39:53.726431Z",
     "shell.execute_reply": "2021-01-09T15:39:53.726895Z"
    },
    "papermill": {
     "duration": 0.061178,
     "end_time": "2021-01-09T15:39:53.727045",
     "exception": false,
     "start_time": "2021-01-09T15:39:53.665867",
     "status": "completed"
    },
    "tags": []
   },
   "outputs": [
    {
     "data": {
      "text/html": [
       "<div>\n",
       "<style scoped>\n",
       "    .dataframe tbody tr th:only-of-type {\n",
       "        vertical-align: middle;\n",
       "    }\n",
       "\n",
       "    .dataframe tbody tr th {\n",
       "        vertical-align: top;\n",
       "    }\n",
       "\n",
       "    .dataframe thead th {\n",
       "        text-align: right;\n",
       "    }\n",
       "</style>\n",
       "<table border=\"1\" class=\"dataframe\">\n",
       "  <thead>\n",
       "    <tr style=\"text-align: right;\">\n",
       "      <th></th>\n",
       "      <th>Serial No.</th>\n",
       "      <th>GRE Score</th>\n",
       "      <th>TOEFL Score</th>\n",
       "      <th>University Rating</th>\n",
       "      <th>SOP</th>\n",
       "      <th>LOR</th>\n",
       "      <th>CGPA</th>\n",
       "      <th>Research</th>\n",
       "      <th>Chance of Admit</th>\n",
       "    </tr>\n",
       "  </thead>\n",
       "  <tbody>\n",
       "    <tr>\n",
       "      <th>count</th>\n",
       "      <td>400.000000</td>\n",
       "      <td>400.000000</td>\n",
       "      <td>400.000000</td>\n",
       "      <td>400.000000</td>\n",
       "      <td>400.000000</td>\n",
       "      <td>400.000000</td>\n",
       "      <td>400.000000</td>\n",
       "      <td>400.000000</td>\n",
       "      <td>400.000000</td>\n",
       "    </tr>\n",
       "    <tr>\n",
       "      <th>mean</th>\n",
       "      <td>200.500000</td>\n",
       "      <td>316.807500</td>\n",
       "      <td>107.410000</td>\n",
       "      <td>3.087500</td>\n",
       "      <td>3.400000</td>\n",
       "      <td>3.452500</td>\n",
       "      <td>8.598925</td>\n",
       "      <td>0.547500</td>\n",
       "      <td>0.724350</td>\n",
       "    </tr>\n",
       "    <tr>\n",
       "      <th>std</th>\n",
       "      <td>115.614301</td>\n",
       "      <td>11.473646</td>\n",
       "      <td>6.069514</td>\n",
       "      <td>1.143728</td>\n",
       "      <td>1.006869</td>\n",
       "      <td>0.898478</td>\n",
       "      <td>0.596317</td>\n",
       "      <td>0.498362</td>\n",
       "      <td>0.142609</td>\n",
       "    </tr>\n",
       "    <tr>\n",
       "      <th>min</th>\n",
       "      <td>1.000000</td>\n",
       "      <td>290.000000</td>\n",
       "      <td>92.000000</td>\n",
       "      <td>1.000000</td>\n",
       "      <td>1.000000</td>\n",
       "      <td>1.000000</td>\n",
       "      <td>6.800000</td>\n",
       "      <td>0.000000</td>\n",
       "      <td>0.340000</td>\n",
       "    </tr>\n",
       "    <tr>\n",
       "      <th>25%</th>\n",
       "      <td>100.750000</td>\n",
       "      <td>308.000000</td>\n",
       "      <td>103.000000</td>\n",
       "      <td>2.000000</td>\n",
       "      <td>2.500000</td>\n",
       "      <td>3.000000</td>\n",
       "      <td>8.170000</td>\n",
       "      <td>0.000000</td>\n",
       "      <td>0.640000</td>\n",
       "    </tr>\n",
       "    <tr>\n",
       "      <th>50%</th>\n",
       "      <td>200.500000</td>\n",
       "      <td>317.000000</td>\n",
       "      <td>107.000000</td>\n",
       "      <td>3.000000</td>\n",
       "      <td>3.500000</td>\n",
       "      <td>3.500000</td>\n",
       "      <td>8.610000</td>\n",
       "      <td>1.000000</td>\n",
       "      <td>0.730000</td>\n",
       "    </tr>\n",
       "    <tr>\n",
       "      <th>75%</th>\n",
       "      <td>300.250000</td>\n",
       "      <td>325.000000</td>\n",
       "      <td>112.000000</td>\n",
       "      <td>4.000000</td>\n",
       "      <td>4.000000</td>\n",
       "      <td>4.000000</td>\n",
       "      <td>9.062500</td>\n",
       "      <td>1.000000</td>\n",
       "      <td>0.830000</td>\n",
       "    </tr>\n",
       "    <tr>\n",
       "      <th>max</th>\n",
       "      <td>400.000000</td>\n",
       "      <td>340.000000</td>\n",
       "      <td>120.000000</td>\n",
       "      <td>5.000000</td>\n",
       "      <td>5.000000</td>\n",
       "      <td>5.000000</td>\n",
       "      <td>9.920000</td>\n",
       "      <td>1.000000</td>\n",
       "      <td>0.970000</td>\n",
       "    </tr>\n",
       "  </tbody>\n",
       "</table>\n",
       "</div>"
      ],
      "text/plain": [
       "       Serial No.   GRE Score  TOEFL Score  University Rating         SOP  \\\n",
       "count  400.000000  400.000000   400.000000         400.000000  400.000000   \n",
       "mean   200.500000  316.807500   107.410000           3.087500    3.400000   \n",
       "std    115.614301   11.473646     6.069514           1.143728    1.006869   \n",
       "min      1.000000  290.000000    92.000000           1.000000    1.000000   \n",
       "25%    100.750000  308.000000   103.000000           2.000000    2.500000   \n",
       "50%    200.500000  317.000000   107.000000           3.000000    3.500000   \n",
       "75%    300.250000  325.000000   112.000000           4.000000    4.000000   \n",
       "max    400.000000  340.000000   120.000000           5.000000    5.000000   \n",
       "\n",
       "             LOR         CGPA    Research  Chance of Admit   \n",
       "count  400.000000  400.000000  400.000000        400.000000  \n",
       "mean     3.452500    8.598925    0.547500          0.724350  \n",
       "std      0.898478    0.596317    0.498362          0.142609  \n",
       "min      1.000000    6.800000    0.000000          0.340000  \n",
       "25%      3.000000    8.170000    0.000000          0.640000  \n",
       "50%      3.500000    8.610000    1.000000          0.730000  \n",
       "75%      4.000000    9.062500    1.000000          0.830000  \n",
       "max      5.000000    9.920000    1.000000          0.970000  "
      ]
     },
     "execution_count": 6,
     "metadata": {},
     "output_type": "execute_result"
    }
   ],
   "source": [
    "df.describe()"
   ]
  },
  {
   "cell_type": "code",
   "execution_count": 7,
   "metadata": {
    "execution": {
     "iopub.execute_input": "2021-01-09T15:39:53.778590Z",
     "iopub.status.busy": "2021-01-09T15:39:53.777982Z",
     "iopub.status.idle": "2021-01-09T15:39:54.005777Z",
     "shell.execute_reply": "2021-01-09T15:39:54.005166Z"
    },
    "papermill": {
     "duration": 0.257108,
     "end_time": "2021-01-09T15:39:54.005881",
     "exception": false,
     "start_time": "2021-01-09T15:39:53.748773",
     "status": "completed"
    },
    "tags": []
   },
   "outputs": [
    {
     "data": {
      "image/png": "[encoded data removed]",
      "text/plain": [
       "<Figure size 720x504 with 1 Axes>"
      ]
     },
     "metadata": {},
     "output_type": "display_data"
    }
   ],
   "source": [
    "plt.style.use('seaborn-darkgrid')\n",
    "plt.figure(figsize = (10,7))\n",
    "sns.distplot(df['GRE Score'],kde=True,color='red')\n",
    "plt.title('Distribution of GRE Scores')\n",
    "plt.xlabel('Scores')\n",
    "plt.show()"
   ]
  },
  {
   "cell_type": "code",
   "execution_count": 8,
   "metadata": {
    "execution": {
     "iopub.execute_input": "2021-01-09T15:39:54.064262Z",
     "iopub.status.busy": "2021-01-09T15:39:54.060259Z",
     "iopub.status.idle": "2021-01-09T15:39:54.242900Z",
     "shell.execute_reply": "2021-01-09T15:39:54.242410Z"
    },
    "papermill": {
     "duration": 0.213495,
     "end_time": "2021-01-09T15:39:54.242996",
     "exception": false,
     "start_time": "2021-01-09T15:39:54.029501",
     "status": "completed"
    },
    "tags": []
   },
   "outputs": [
    {
     "data": {
      "image/png": "[encoded data removed]",
      "text/plain": [
       "<Figure size 720x504 with 1 Axes>"
      ]
     },
     "metadata": {},
     "output_type": "display_data"
    }
   ],
   "source": [
    "plt.style.use('seaborn-darkgrid')\n",
    "plt.figure(figsize = (10,7))\n",
    "sns.distplot(df['TOEFL Score'],kde=True,color='red')\n",
    "plt.title('Distribution of TOEFL Scores')\n",
    "plt.xlabel('Scores')\n",
    "plt.show()"
   ]
  },
  {
   "cell_type": "code",
   "execution_count": 9,
   "metadata": {
    "execution": {
     "iopub.execute_input": "2021-01-09T15:39:54.305780Z",
     "iopub.status.busy": "2021-01-09T15:39:54.304095Z",
     "iopub.status.idle": "2021-01-09T15:39:54.463656Z",
     "shell.execute_reply": "2021-01-09T15:39:54.463149Z"
    },
    "papermill": {
     "duration": 0.195783,
     "end_time": "2021-01-09T15:39:54.463752",
     "exception": false,
     "start_time": "2021-01-09T15:39:54.267969",
     "status": "completed"
    },
    "tags": []
   },
   "outputs": [
    {
     "data": {
      "image/png": "[encoded data removed]",
      "text/plain": [
       "<Figure size 720x504 with 1 Axes>"
      ]
     },
     "metadata": {},
     "output_type": "display_data"
    }
   ],
   "source": [
    "plt.style.use('seaborn-darkgrid')\n",
    "plt.figure(figsize = (10,7))\n",
    "sns.distplot(df['CGPA'],kde=True,color='red')\n",
    "plt.title('Distribution of CGPA')\n",
    "plt.xlabel('Scores')\n",
    "plt.show()"
   ]
  },
  {
   "cell_type": "code",
   "execution_count": 10,
   "metadata": {
    "execution": {
     "iopub.execute_input": "2021-01-09T15:39:54.525369Z",
     "iopub.status.busy": "2021-01-09T15:39:54.521105Z",
     "iopub.status.idle": "2021-01-09T15:39:54.645615Z",
     "shell.execute_reply": "2021-01-09T15:39:54.646093Z"
    },
    "papermill": {
     "duration": 0.156993,
     "end_time": "2021-01-09T15:39:54.646222",
     "exception": false,
     "start_time": "2021-01-09T15:39:54.489229",
     "status": "completed"
    },
    "tags": []
   },
   "outputs": [
    {
     "data": {
      "image/png": "[encoded data removed]",
      "text/plain": [
       "<Figure size 720x504 with 1 Axes>"
      ]
     },
     "metadata": {},
     "output_type": "display_data"
    }
   ],
   "source": [
    "plt.figure(figsize=(10,7))\n",
    "sns.countplot(df['University Rating'],palette='Set1')\n",
    "plt.xlabel('University Rating')\n",
    "plt.title('Distribution of University rating')\n",
    "plt.show()"
   ]
  },
  {
   "cell_type": "code",
   "execution_count": 11,
   "metadata": {
    "execution": {
     "iopub.execute_input": "2021-01-09T15:39:54.711563Z",
     "iopub.status.busy": "2021-01-09T15:39:54.710925Z",
     "iopub.status.idle": "2021-01-09T15:39:54.815881Z",
     "shell.execute_reply": "2021-01-09T15:39:54.815034Z"
    },
    "papermill": {
     "duration": 0.142735,
     "end_time": "2021-01-09T15:39:54.815990",
     "exception": false,
     "start_time": "2021-01-09T15:39:54.673255",
     "status": "completed"
    },
    "tags": []
   },
   "outputs": [
    {
     "data": {
      "image/png": "[encoded data removed]",
      "text/plain": [
       "<Figure size 720x504 with 1 Axes>"
      ]
     },
     "metadata": {},
     "output_type": "display_data"
    }
   ],
   "source": [
    "plt.title(\"Distribution of University Rating\")\n",
    "df['University Rating'].value_counts().plot.pie(autopct='%1.1f%%',figsize=(10,7)) \n",
    "plt.show()"
   ]
  },
  {
   "cell_type": "code",
   "execution_count": 12,
   "metadata": {
    "execution": {
     "iopub.execute_input": "2021-01-09T15:39:54.883845Z",
     "iopub.status.busy": "2021-01-09T15:39:54.883193Z",
     "iopub.status.idle": "2021-01-09T15:39:55.056780Z",
     "shell.execute_reply": "2021-01-09T15:39:55.057369Z"
    },
    "papermill": {
     "duration": 0.213214,
     "end_time": "2021-01-09T15:39:55.057501",
     "exception": false,
     "start_time": "2021-01-09T15:39:54.844287",
     "status": "completed"
    },
    "tags": []
   },
   "outputs": [
    {
     "data": {
      "image/png": "[encoded data removed]",
      "text/plain": [
       "<Figure size 720x504 with 1 Axes>"
      ]
     },
     "metadata": {},
     "output_type": "display_data"
    }
   ],
   "source": [
    "plt.figure(figsize=(10,7))\n",
    "sns.countplot(df['Research'],palette='Set1')\n",
    "plt.xlabel('Research')\n",
    "plt.title('Distribution of Students who have written Research Papers')\n",
    "plt.show()"
   ]
  },
  {
   "cell_type": "code",
   "execution_count": 13,
   "metadata": {
    "execution": {
     "iopub.execute_input": "2021-01-09T15:39:55.118829Z",
     "iopub.status.busy": "2021-01-09T15:39:55.118222Z",
     "iopub.status.idle": "2021-01-09T15:39:55.782240Z",
     "shell.execute_reply": "2021-01-09T15:39:55.781670Z"
    },
    "papermill": {
     "duration": 0.695678,
     "end_time": "2021-01-09T15:39:55.782379",
     "exception": false,
     "start_time": "2021-01-09T15:39:55.086701",
     "status": "completed"
    },
    "tags": []
   },
   "outputs": [
    {
     "data": {
      "text/plain": [
       "<Figure size 720x504 with 0 Axes>"
      ]
     },
     "metadata": {},
     "output_type": "display_data"
    },
    {
     "data": {
      "image/png": "[encoded data removed]",
      "text/plain": [
       "<Figure size 432x432 with 3 Axes>"
      ]
     },
     "metadata": {},
     "output_type": "display_data"
    }
   ],
   "source": [
    "plt.figure(figsize=(10,7))\n",
    "sns.jointplot(x=\"Chance of Admit \",y=\"GRE Score\",data=df,kind=\"hex\",color=\"red\")\n",
    "plt.show()"
   ]
  },
  {
   "cell_type": "code",
   "execution_count": 14,
   "metadata": {
    "execution": {
     "iopub.execute_input": "2021-01-09T15:39:55.857847Z",
     "iopub.status.busy": "2021-01-09T15:39:55.851769Z",
     "iopub.status.idle": "2021-01-09T15:39:56.487194Z",
     "shell.execute_reply": "2021-01-09T15:39:56.486676Z"
    },
    "papermill": {
     "duration": 0.673474,
     "end_time": "2021-01-09T15:39:56.487304",
     "exception": false,
     "start_time": "2021-01-09T15:39:55.813830",
     "status": "completed"
    },
    "tags": []
   },
   "outputs": [
    {
     "data": {
      "text/plain": [
       "<Figure size 720x504 with 0 Axes>"
      ]
     },
     "metadata": {},
     "output_type": "display_data"
    },
    {
     "data": {
      "image/png": "[encoded data removed]",
      "text/plain": [
       "<Figure size 432x432 with 3 Axes>"
      ]
     },
     "metadata": {},
     "output_type": "display_data"
    }
   ],
   "source": [
    "plt.figure(figsize=(10,7))\n",
    "sns.jointplot(x=\"Chance of Admit \",y=\"TOEFL Score\",data=df,kind=\"hex\",color=\"red\")\n",
    "plt.show()"
   ]
  },
  {
   "cell_type": "code",
   "execution_count": 15,
   "metadata": {
    "execution": {
     "iopub.execute_input": "2021-01-09T15:39:56.562829Z",
     "iopub.status.busy": "2021-01-09T15:39:56.556839Z",
     "iopub.status.idle": "2021-01-09T15:39:57.224372Z",
     "shell.execute_reply": "2021-01-09T15:39:57.223779Z"
    },
    "papermill": {
     "duration": 0.704893,
     "end_time": "2021-01-09T15:39:57.224486",
     "exception": false,
     "start_time": "2021-01-09T15:39:56.519593",
     "status": "completed"
    },
    "tags": []
   },
   "outputs": [
    {
     "data": {
      "text/plain": [
       "<Figure size 720x504 with 0 Axes>"
      ]
     },
     "metadata": {},
     "output_type": "display_data"
    },
    {
     "data": {
      "image/png": "[encoded data removed]",
      "text/plain": [
       "<Figure size 432x432 with 3 Axes>"
      ]
     },
     "metadata": {},
     "output_type": "display_data"
    }
   ],
   "source": [
    "plt.figure(figsize=(10,7))\n",
    "sns.jointplot(x=\"Chance of Admit \",y=\"CGPA\",data=df,kind=\"hex\",color=\"red\")\n",
    "plt.show()"
   ]
  },
  {
   "cell_type": "code",
   "execution_count": 16,
   "metadata": {
    "execution": {
     "iopub.execute_input": "2021-01-09T15:39:57.306390Z",
     "iopub.status.busy": "2021-01-09T15:39:57.305545Z",
     "iopub.status.idle": "2021-01-09T15:39:57.309927Z",
     "shell.execute_reply": "2021-01-09T15:39:57.309359Z"
    },
    "papermill": {
     "duration": 0.051378,
     "end_time": "2021-01-09T15:39:57.310026",
     "exception": false,
     "start_time": "2021-01-09T15:39:57.258648",
     "status": "completed"
    },
    "tags": []
   },
   "outputs": [
    {
     "data": {
      "text/html": [
       "<div>\n",
       "<style scoped>\n",
       "    .dataframe tbody tr th:only-of-type {\n",
       "        vertical-align: middle;\n",
       "    }\n",
       "\n",
       "    .dataframe tbody tr th {\n",
       "        vertical-align: top;\n",
       "    }\n",
       "\n",
       "    .dataframe thead th {\n",
       "        text-align: right;\n",
       "    }\n",
       "</style>\n",
       "<table border=\"1\" class=\"dataframe\">\n",
       "  <thead>\n",
       "    <tr style=\"text-align: right;\">\n",
       "      <th></th>\n",
       "      <th>Serial No.</th>\n",
       "      <th>GRE Score</th>\n",
       "      <th>TOEFL Score</th>\n",
       "      <th>University Rating</th>\n",
       "      <th>SOP</th>\n",
       "      <th>LOR</th>\n",
       "      <th>CGPA</th>\n",
       "      <th>Research</th>\n",
       "      <th>Chance of Admit</th>\n",
       "    </tr>\n",
       "  </thead>\n",
       "  <tbody>\n",
       "    <tr>\n",
       "      <th>0</th>\n",
       "      <td>1</td>\n",
       "      <td>337</td>\n",
       "      <td>118</td>\n",
       "      <td>4</td>\n",
       "      <td>4.5</td>\n",
       "      <td>4.5</td>\n",
       "      <td>9.65</td>\n",
       "      <td>1</td>\n",
       "      <td>0.92</td>\n",
       "    </tr>\n",
       "    <tr>\n",
       "      <th>1</th>\n",
       "      <td>2</td>\n",
       "      <td>324</td>\n",
       "      <td>107</td>\n",
       "      <td>4</td>\n",
       "      <td>4.0</td>\n",
       "      <td>4.5</td>\n",
       "      <td>8.87</td>\n",
       "      <td>1</td>\n",
       "      <td>0.76</td>\n",
       "    </tr>\n",
       "    <tr>\n",
       "      <th>2</th>\n",
       "      <td>3</td>\n",
       "      <td>316</td>\n",
       "      <td>104</td>\n",
       "      <td>3</td>\n",
       "      <td>3.0</td>\n",
       "      <td>3.5</td>\n",
       "      <td>8.00</td>\n",
       "      <td>1</td>\n",
       "      <td>0.72</td>\n",
       "    </tr>\n",
       "    <tr>\n",
       "      <th>3</th>\n",
       "      <td>4</td>\n",
       "      <td>322</td>\n",
       "      <td>110</td>\n",
       "      <td>3</td>\n",
       "      <td>3.5</td>\n",
       "      <td>2.5</td>\n",
       "      <td>8.67</td>\n",
       "      <td>1</td>\n",
       "      <td>0.80</td>\n",
       "    </tr>\n",
       "    <tr>\n",
       "      <th>4</th>\n",
       "      <td>5</td>\n",
       "      <td>314</td>\n",
       "      <td>103</td>\n",
       "      <td>2</td>\n",
       "      <td>2.0</td>\n",
       "      <td>3.0</td>\n",
       "      <td>8.21</td>\n",
       "      <td>0</td>\n",
       "      <td>0.65</td>\n",
       "    </tr>\n",
       "  </tbody>\n",
       "</table>\n",
       "</div>"
      ],
      "text/plain": [
       "   Serial No.  GRE Score  TOEFL Score  University Rating  SOP  LOR   CGPA  \\\n",
       "0           1        337          118                  4  4.5   4.5  9.65   \n",
       "1           2        324          107                  4  4.0   4.5  8.87   \n",
       "2           3        316          104                  3  3.0   3.5  8.00   \n",
       "3           4        322          110                  3  3.5   2.5  8.67   \n",
       "4           5        314          103                  2  2.0   3.0  8.21   \n",
       "\n",
       "   Research  Chance of Admit   \n",
       "0         1              0.92  \n",
       "1         1              0.76  \n",
       "2         1              0.72  \n",
       "3         1              0.80  \n",
       "4         0              0.65  "
      ]
     },
     "execution_count": 16,
     "metadata": {},
     "output_type": "execute_result"
    }
   ],
   "source": [
    "df.head()"
   ]
  },
  {
   "cell_type": "code",
   "execution_count": 17,
   "metadata": {
    "execution": {
     "iopub.execute_input": "2021-01-09T15:39:57.396510Z",
     "iopub.status.busy": "2021-01-09T15:39:57.395777Z",
     "iopub.status.idle": "2021-01-09T15:39:57.399373Z",
     "shell.execute_reply": "2021-01-09T15:39:57.398797Z"
    },
    "papermill": {
     "duration": 0.055048,
     "end_time": "2021-01-09T15:39:57.399472",
     "exception": false,
     "start_time": "2021-01-09T15:39:57.344424",
     "status": "completed"
    },
    "tags": []
   },
   "outputs": [
    {
     "data": {
      "text/html": [
       "<div>\n",
       "<style scoped>\n",
       "    .dataframe tbody tr th:only-of-type {\n",
       "        vertical-align: middle;\n",
       "    }\n",
       "\n",
       "    .dataframe tbody tr th {\n",
       "        vertical-align: top;\n",
       "    }\n",
       "\n",
       "    .dataframe thead th {\n",
       "        text-align: right;\n",
       "    }\n",
       "</style>\n",
       "<table border=\"1\" class=\"dataframe\">\n",
       "  <thead>\n",
       "    <tr style=\"text-align: right;\">\n",
       "      <th></th>\n",
       "      <th>GRE Score</th>\n",
       "      <th>TOEFL Score</th>\n",
       "      <th>University Rating</th>\n",
       "      <th>CGPA</th>\n",
       "      <th>Research</th>\n",
       "      <th>Chance of Admit</th>\n",
       "    </tr>\n",
       "  </thead>\n",
       "  <tbody>\n",
       "    <tr>\n",
       "      <th>143</th>\n",
       "      <td>340</td>\n",
       "      <td>120</td>\n",
       "      <td>4</td>\n",
       "      <td>9.92</td>\n",
       "      <td>1</td>\n",
       "      <td>0.97</td>\n",
       "    </tr>\n",
       "    <tr>\n",
       "      <th>202</th>\n",
       "      <td>340</td>\n",
       "      <td>120</td>\n",
       "      <td>5</td>\n",
       "      <td>9.91</td>\n",
       "      <td>1</td>\n",
       "      <td>0.97</td>\n",
       "    </tr>\n",
       "    <tr>\n",
       "      <th>203</th>\n",
       "      <td>334</td>\n",
       "      <td>120</td>\n",
       "      <td>5</td>\n",
       "      <td>9.87</td>\n",
       "      <td>1</td>\n",
       "      <td>0.97</td>\n",
       "    </tr>\n",
       "    <tr>\n",
       "      <th>385</th>\n",
       "      <td>335</td>\n",
       "      <td>117</td>\n",
       "      <td>5</td>\n",
       "      <td>9.82</td>\n",
       "      <td>1</td>\n",
       "      <td>0.96</td>\n",
       "    </tr>\n",
       "    <tr>\n",
       "      <th>34</th>\n",
       "      <td>331</td>\n",
       "      <td>112</td>\n",
       "      <td>5</td>\n",
       "      <td>9.80</td>\n",
       "      <td>1</td>\n",
       "      <td>0.94</td>\n",
       "    </tr>\n",
       "    <tr>\n",
       "      <th>148</th>\n",
       "      <td>339</td>\n",
       "      <td>116</td>\n",
       "      <td>4</td>\n",
       "      <td>9.80</td>\n",
       "      <td>1</td>\n",
       "      <td>0.96</td>\n",
       "    </tr>\n",
       "    <tr>\n",
       "      <th>24</th>\n",
       "      <td>336</td>\n",
       "      <td>119</td>\n",
       "      <td>5</td>\n",
       "      <td>9.80</td>\n",
       "      <td>1</td>\n",
       "      <td>0.97</td>\n",
       "    </tr>\n",
       "    <tr>\n",
       "      <th>213</th>\n",
       "      <td>333</td>\n",
       "      <td>119</td>\n",
       "      <td>5</td>\n",
       "      <td>9.78</td>\n",
       "      <td>1</td>\n",
       "      <td>0.96</td>\n",
       "    </tr>\n",
       "    <tr>\n",
       "      <th>130</th>\n",
       "      <td>339</td>\n",
       "      <td>114</td>\n",
       "      <td>5</td>\n",
       "      <td>9.76</td>\n",
       "      <td>1</td>\n",
       "      <td>0.96</td>\n",
       "    </tr>\n",
       "    <tr>\n",
       "      <th>71</th>\n",
       "      <td>336</td>\n",
       "      <td>112</td>\n",
       "      <td>5</td>\n",
       "      <td>9.76</td>\n",
       "      <td>1</td>\n",
       "      <td>0.96</td>\n",
       "    </tr>\n",
       "  </tbody>\n",
       "</table>\n",
       "</div>"
      ],
      "text/plain": [
       "     GRE Score  TOEFL Score  University Rating  CGPA  Research  \\\n",
       "143        340          120                  4  9.92         1   \n",
       "202        340          120                  5  9.91         1   \n",
       "203        334          120                  5  9.87         1   \n",
       "385        335          117                  5  9.82         1   \n",
       "34         331          112                  5  9.80         1   \n",
       "148        339          116                  4  9.80         1   \n",
       "24         336          119                  5  9.80         1   \n",
       "213        333          119                  5  9.78         1   \n",
       "130        339          114                  5  9.76         1   \n",
       "71         336          112                  5  9.76         1   \n",
       "\n",
       "     Chance of Admit   \n",
       "143              0.97  \n",
       "202              0.97  \n",
       "203              0.97  \n",
       "385              0.96  \n",
       "34               0.94  \n",
       "148              0.96  \n",
       "24               0.97  \n",
       "213              0.96  \n",
       "130              0.96  \n",
       "71               0.96  "
      ]
     },
     "execution_count": 17,
     "metadata": {},
     "output_type": "execute_result"
    }
   ],
   "source": [
    "df[df['CGPA']>9.0][['GRE Score','TOEFL Score','University Rating','CGPA','Research','Chance of Admit ']].sort_values(by = 'CGPA',ascending = False).head(10)"
   ]
  },
  {
   "cell_type": "code",
   "execution_count": 18,
   "metadata": {
    "execution": {
     "iopub.execute_input": "2021-01-09T15:39:57.486171Z",
     "iopub.status.busy": "2021-01-09T15:39:57.485522Z",
     "iopub.status.idle": "2021-01-09T15:39:57.490202Z",
     "shell.execute_reply": "2021-01-09T15:39:57.489609Z"
    },
    "papermill": {
     "duration": 0.05479,
     "end_time": "2021-01-09T15:39:57.490319",
     "exception": false,
     "start_time": "2021-01-09T15:39:57.435529",
     "status": "completed"
    },
    "tags": []
   },
   "outputs": [
    {
     "data": {
      "text/html": [
       "<div>\n",
       "<style scoped>\n",
       "    .dataframe tbody tr th:only-of-type {\n",
       "        vertical-align: middle;\n",
       "    }\n",
       "\n",
       "    .dataframe tbody tr th {\n",
       "        vertical-align: top;\n",
       "    }\n",
       "\n",
       "    .dataframe thead th {\n",
       "        text-align: right;\n",
       "    }\n",
       "</style>\n",
       "<table border=\"1\" class=\"dataframe\">\n",
       "  <thead>\n",
       "    <tr style=\"text-align: right;\">\n",
       "      <th></th>\n",
       "      <th>GRE Score</th>\n",
       "      <th>TOEFL Score</th>\n",
       "      <th>University Rating</th>\n",
       "      <th>CGPA</th>\n",
       "      <th>Research</th>\n",
       "      <th>Chance of Admit</th>\n",
       "    </tr>\n",
       "  </thead>\n",
       "  <tbody>\n",
       "    <tr>\n",
       "      <th>143</th>\n",
       "      <td>340</td>\n",
       "      <td>120</td>\n",
       "      <td>4</td>\n",
       "      <td>9.92</td>\n",
       "      <td>1</td>\n",
       "      <td>0.97</td>\n",
       "    </tr>\n",
       "    <tr>\n",
       "      <th>202</th>\n",
       "      <td>340</td>\n",
       "      <td>120</td>\n",
       "      <td>5</td>\n",
       "      <td>9.91</td>\n",
       "      <td>1</td>\n",
       "      <td>0.97</td>\n",
       "    </tr>\n",
       "    <tr>\n",
       "      <th>203</th>\n",
       "      <td>334</td>\n",
       "      <td>120</td>\n",
       "      <td>5</td>\n",
       "      <td>9.87</td>\n",
       "      <td>1</td>\n",
       "      <td>0.97</td>\n",
       "    </tr>\n",
       "    <tr>\n",
       "      <th>385</th>\n",
       "      <td>335</td>\n",
       "      <td>117</td>\n",
       "      <td>5</td>\n",
       "      <td>9.82</td>\n",
       "      <td>1</td>\n",
       "      <td>0.96</td>\n",
       "    </tr>\n",
       "    <tr>\n",
       "      <th>24</th>\n",
       "      <td>336</td>\n",
       "      <td>119</td>\n",
       "      <td>5</td>\n",
       "      <td>9.80</td>\n",
       "      <td>1</td>\n",
       "      <td>0.97</td>\n",
       "    </tr>\n",
       "    <tr>\n",
       "      <th>34</th>\n",
       "      <td>331</td>\n",
       "      <td>112</td>\n",
       "      <td>5</td>\n",
       "      <td>9.80</td>\n",
       "      <td>1</td>\n",
       "      <td>0.94</td>\n",
       "    </tr>\n",
       "    <tr>\n",
       "      <th>148</th>\n",
       "      <td>339</td>\n",
       "      <td>116</td>\n",
       "      <td>4</td>\n",
       "      <td>9.80</td>\n",
       "      <td>1</td>\n",
       "      <td>0.96</td>\n",
       "    </tr>\n",
       "    <tr>\n",
       "      <th>213</th>\n",
       "      <td>333</td>\n",
       "      <td>119</td>\n",
       "      <td>5</td>\n",
       "      <td>9.78</td>\n",
       "      <td>1</td>\n",
       "      <td>0.96</td>\n",
       "    </tr>\n",
       "    <tr>\n",
       "      <th>71</th>\n",
       "      <td>336</td>\n",
       "      <td>112</td>\n",
       "      <td>5</td>\n",
       "      <td>9.76</td>\n",
       "      <td>1</td>\n",
       "      <td>0.96</td>\n",
       "    </tr>\n",
       "    <tr>\n",
       "      <th>130</th>\n",
       "      <td>339</td>\n",
       "      <td>114</td>\n",
       "      <td>5</td>\n",
       "      <td>9.76</td>\n",
       "      <td>1</td>\n",
       "      <td>0.96</td>\n",
       "    </tr>\n",
       "  </tbody>\n",
       "</table>\n",
       "</div>"
      ],
      "text/plain": [
       "     GRE Score  TOEFL Score  University Rating  CGPA  Research  \\\n",
       "143        340          120                  4  9.92         1   \n",
       "202        340          120                  5  9.91         1   \n",
       "203        334          120                  5  9.87         1   \n",
       "385        335          117                  5  9.82         1   \n",
       "24         336          119                  5  9.80         1   \n",
       "34         331          112                  5  9.80         1   \n",
       "148        339          116                  4  9.80         1   \n",
       "213        333          119                  5  9.78         1   \n",
       "71         336          112                  5  9.76         1   \n",
       "130        339          114                  5  9.76         1   \n",
       "\n",
       "     Chance of Admit   \n",
       "143              0.97  \n",
       "202              0.97  \n",
       "203              0.97  \n",
       "385              0.96  \n",
       "24               0.97  \n",
       "34               0.94  \n",
       "148              0.96  \n",
       "213              0.96  \n",
       "71               0.96  \n",
       "130              0.96  "
      ]
     },
     "execution_count": 18,
     "metadata": {},
     "output_type": "execute_result"
    }
   ],
   "source": [
    "df[df['GRE Score']>320][['GRE Score','TOEFL Score','University Rating','CGPA','Research','Chance of Admit ']].sort_values(by = 'CGPA',ascending = False).head(10)"
   ]
  },
  {
   "cell_type": "code",
   "execution_count": 19,
   "metadata": {
    "execution": {
     "iopub.execute_input": "2021-01-09T15:39:57.580284Z",
     "iopub.status.busy": "2021-01-09T15:39:57.579263Z",
     "iopub.status.idle": "2021-01-09T15:39:57.583548Z",
     "shell.execute_reply": "2021-01-09T15:39:57.583037Z"
    },
    "papermill": {
     "duration": 0.057658,
     "end_time": "2021-01-09T15:39:57.583653",
     "exception": false,
     "start_time": "2021-01-09T15:39:57.525995",
     "status": "completed"
    },
    "tags": []
   },
   "outputs": [
    {
     "data": {
      "text/html": [
       "<div>\n",
       "<style scoped>\n",
       "    .dataframe tbody tr th:only-of-type {\n",
       "        vertical-align: middle;\n",
       "    }\n",
       "\n",
       "    .dataframe tbody tr th {\n",
       "        vertical-align: top;\n",
       "    }\n",
       "\n",
       "    .dataframe thead th {\n",
       "        text-align: right;\n",
       "    }\n",
       "</style>\n",
       "<table border=\"1\" class=\"dataframe\">\n",
       "  <thead>\n",
       "    <tr style=\"text-align: right;\">\n",
       "      <th></th>\n",
       "      <th>GRE Score</th>\n",
       "      <th>TOEFL Score</th>\n",
       "      <th>University Rating</th>\n",
       "      <th>CGPA</th>\n",
       "      <th>Research</th>\n",
       "      <th>Chance of Admit</th>\n",
       "    </tr>\n",
       "  </thead>\n",
       "  <tbody>\n",
       "    <tr>\n",
       "      <th>143</th>\n",
       "      <td>340</td>\n",
       "      <td>120</td>\n",
       "      <td>4</td>\n",
       "      <td>9.92</td>\n",
       "      <td>1</td>\n",
       "      <td>0.97</td>\n",
       "    </tr>\n",
       "    <tr>\n",
       "      <th>202</th>\n",
       "      <td>340</td>\n",
       "      <td>120</td>\n",
       "      <td>5</td>\n",
       "      <td>9.91</td>\n",
       "      <td>1</td>\n",
       "      <td>0.97</td>\n",
       "    </tr>\n",
       "    <tr>\n",
       "      <th>203</th>\n",
       "      <td>334</td>\n",
       "      <td>120</td>\n",
       "      <td>5</td>\n",
       "      <td>9.87</td>\n",
       "      <td>1</td>\n",
       "      <td>0.97</td>\n",
       "    </tr>\n",
       "    <tr>\n",
       "      <th>385</th>\n",
       "      <td>335</td>\n",
       "      <td>117</td>\n",
       "      <td>5</td>\n",
       "      <td>9.82</td>\n",
       "      <td>1</td>\n",
       "      <td>0.96</td>\n",
       "    </tr>\n",
       "    <tr>\n",
       "      <th>34</th>\n",
       "      <td>331</td>\n",
       "      <td>112</td>\n",
       "      <td>5</td>\n",
       "      <td>9.80</td>\n",
       "      <td>1</td>\n",
       "      <td>0.94</td>\n",
       "    </tr>\n",
       "    <tr>\n",
       "      <th>148</th>\n",
       "      <td>339</td>\n",
       "      <td>116</td>\n",
       "      <td>4</td>\n",
       "      <td>9.80</td>\n",
       "      <td>1</td>\n",
       "      <td>0.96</td>\n",
       "    </tr>\n",
       "    <tr>\n",
       "      <th>24</th>\n",
       "      <td>336</td>\n",
       "      <td>119</td>\n",
       "      <td>5</td>\n",
       "      <td>9.80</td>\n",
       "      <td>1</td>\n",
       "      <td>0.97</td>\n",
       "    </tr>\n",
       "    <tr>\n",
       "      <th>213</th>\n",
       "      <td>333</td>\n",
       "      <td>119</td>\n",
       "      <td>5</td>\n",
       "      <td>9.78</td>\n",
       "      <td>1</td>\n",
       "      <td>0.96</td>\n",
       "    </tr>\n",
       "    <tr>\n",
       "      <th>130</th>\n",
       "      <td>339</td>\n",
       "      <td>114</td>\n",
       "      <td>5</td>\n",
       "      <td>9.76</td>\n",
       "      <td>1</td>\n",
       "      <td>0.96</td>\n",
       "    </tr>\n",
       "    <tr>\n",
       "      <th>71</th>\n",
       "      <td>336</td>\n",
       "      <td>112</td>\n",
       "      <td>5</td>\n",
       "      <td>9.76</td>\n",
       "      <td>1</td>\n",
       "      <td>0.96</td>\n",
       "    </tr>\n",
       "  </tbody>\n",
       "</table>\n",
       "</div>"
      ],
      "text/plain": [
       "     GRE Score  TOEFL Score  University Rating  CGPA  Research  \\\n",
       "143        340          120                  4  9.92         1   \n",
       "202        340          120                  5  9.91         1   \n",
       "203        334          120                  5  9.87         1   \n",
       "385        335          117                  5  9.82         1   \n",
       "34         331          112                  5  9.80         1   \n",
       "148        339          116                  4  9.80         1   \n",
       "24         336          119                  5  9.80         1   \n",
       "213        333          119                  5  9.78         1   \n",
       "130        339          114                  5  9.76         1   \n",
       "71         336          112                  5  9.76         1   \n",
       "\n",
       "     Chance of Admit   \n",
       "143              0.97  \n",
       "202              0.97  \n",
       "203              0.97  \n",
       "385              0.96  \n",
       "34               0.94  \n",
       "148              0.96  \n",
       "24               0.97  \n",
       "213              0.96  \n",
       "130              0.96  \n",
       "71               0.96  "
      ]
     },
     "execution_count": 19,
     "metadata": {},
     "output_type": "execute_result"
    }
   ],
   "source": [
    "df[df['TOEFL Score']>100][['GRE Score','TOEFL Score','University Rating','CGPA','Research','Chance of Admit ']].sort_values(by = 'CGPA',ascending = False).head(10)"
   ]
  },
  {
   "cell_type": "code",
   "execution_count": 20,
   "metadata": {
    "execution": {
     "iopub.execute_input": "2021-01-09T15:39:57.667475Z",
     "iopub.status.busy": "2021-01-09T15:39:57.665517Z",
     "iopub.status.idle": "2021-01-09T15:39:58.564516Z",
     "shell.execute_reply": "2021-01-09T15:39:58.563759Z"
    },
    "papermill": {
     "duration": 0.943647,
     "end_time": "2021-01-09T15:39:58.564629",
     "exception": false,
     "start_time": "2021-01-09T15:39:57.620982",
     "status": "completed"
    },
    "tags": []
   },
   "outputs": [
    {
     "data": {
      "image/png": "[encoded data removed]",
      "text/plain": [
       "<Figure size 1440x504 with 1 Axes>"
      ]
     },
     "metadata": {},
     "output_type": "display_data"
    }
   ],
   "source": [
    "plt.figure(figsize=(20,7)) \n",
    "plot = sns.countplot(x='Chance of Admit ',data=df,hue='Research',palette=\"Set1\")"
   ]
  },
  {
   "cell_type": "code",
   "execution_count": 21,
   "metadata": {
    "execution": {
     "iopub.execute_input": "2021-01-09T15:39:58.645202Z",
     "iopub.status.busy": "2021-01-09T15:39:58.644586Z",
     "iopub.status.idle": "2021-01-09T15:39:58.922386Z",
     "shell.execute_reply": "2021-01-09T15:39:58.922908Z"
    },
    "papermill": {
     "duration": 0.320605,
     "end_time": "2021-01-09T15:39:58.923058",
     "exception": false,
     "start_time": "2021-01-09T15:39:58.602453",
     "status": "completed"
    },
    "tags": []
   },
   "outputs": [],
   "source": [
    "from sklearn.linear_model import LinearRegression\n",
    "from sklearn.model_selection import train_test_split\n",
    "import random\n",
    "from sklearn import metrics"
   ]
  },
  {
   "cell_type": "code",
   "execution_count": 22,
   "metadata": {
    "execution": {
     "iopub.execute_input": "2021-01-09T15:39:59.007499Z",
     "iopub.status.busy": "2021-01-09T15:39:59.003382Z",
     "iopub.status.idle": "2021-01-09T15:39:59.010398Z",
     "shell.execute_reply": "2021-01-09T15:39:59.009907Z"
    },
    "papermill": {
     "duration": 0.048531,
     "end_time": "2021-01-09T15:39:59.010496",
     "exception": false,
     "start_time": "2021-01-09T15:39:58.961965",
     "status": "completed"
    },
    "tags": []
   },
   "outputs": [],
   "source": [
    "X = df[['CGPA','GRE Score','TOEFL Score','Research','University Rating']]\n",
    "Y = df[['Chance of Admit ']]"
   ]
  },
  {
   "cell_type": "code",
   "execution_count": 23,
   "metadata": {
    "execution": {
     "iopub.execute_input": "2021-01-09T15:39:59.095753Z",
     "iopub.status.busy": "2021-01-09T15:39:59.095113Z",
     "iopub.status.idle": "2021-01-09T15:39:59.097010Z",
     "shell.execute_reply": "2021-01-09T15:39:59.097502Z"
    },
    "papermill": {
     "duration": 0.047735,
     "end_time": "2021-01-09T15:39:59.097644",
     "exception": false,
     "start_time": "2021-01-09T15:39:59.049909",
     "status": "completed"
    },
    "tags": []
   },
   "outputs": [],
   "source": [
    "X_train, X_test, Y_train, Y_test = train_test_split(X,Y,random_state=0,test_size=0.2)"
   ]
  },
  {
   "cell_type": "code",
   "execution_count": 24,
   "metadata": {
    "execution": {
     "iopub.execute_input": "2021-01-09T15:39:59.176196Z",
     "iopub.status.busy": "2021-01-09T15:39:59.175541Z",
     "iopub.status.idle": "2021-01-09T15:39:59.178564Z",
     "shell.execute_reply": "2021-01-09T15:39:59.179057Z"
    },
    "papermill": {
     "duration": 0.04386,
     "end_time": "2021-01-09T15:39:59.179187",
     "exception": false,
     "start_time": "2021-01-09T15:39:59.135327",
     "status": "completed"
    },
    "tags": []
   },
   "outputs": [],
   "source": [
    "reg = LinearRegression()"
   ]
  },
  {
   "cell_type": "code",
   "execution_count": 25,
   "metadata": {
    "execution": {
     "iopub.execute_input": "2021-01-09T15:39:59.256791Z",
     "iopub.status.busy": "2021-01-09T15:39:59.256175Z",
     "iopub.status.idle": "2021-01-09T15:39:59.306279Z",
     "shell.execute_reply": "2021-01-09T15:39:59.305550Z"
    },
    "papermill": {
     "duration": 0.089595,
     "end_time": "2021-01-09T15:39:59.306415",
     "exception": false,
     "start_time": "2021-01-09T15:39:59.216820",
     "status": "completed"
    },
    "tags": []
   },
   "outputs": [
    {
     "data": {
      "text/plain": [
       "LinearRegression()"
      ]
     },
     "execution_count": 25,
     "metadata": {},
     "output_type": "execute_result"
    }
   ],
   "source": [
    "reg.fit(X_train,Y_train)"
   ]
  },
  {
   "cell_type": "code",
   "execution_count": 26,
   "metadata": {
    "execution": {
     "iopub.execute_input": "2021-01-09T15:39:59.394359Z",
     "iopub.status.busy": "2021-01-09T15:39:59.393654Z",
     "iopub.status.idle": "2021-01-09T15:39:59.396064Z",
     "shell.execute_reply": "2021-01-09T15:39:59.396587Z"
    },
    "papermill": {
     "duration": 0.047911,
     "end_time": "2021-01-09T15:39:59.396732",
     "exception": false,
     "start_time": "2021-01-09T15:39:59.348821",
     "status": "completed"
    },
    "tags": []
   },
   "outputs": [],
   "source": [
    "pred = reg.predict(X_test)"
   ]
  },
  {
   "cell_type": "code",
   "execution_count": 27,
   "metadata": {
    "execution": {
     "iopub.execute_input": "2021-01-09T15:39:59.487055Z",
     "iopub.status.busy": "2021-01-09T15:39:59.486059Z",
     "iopub.status.idle": "2021-01-09T15:39:59.490204Z",
     "shell.execute_reply": "2021-01-09T15:39:59.489749Z"
    },
    "papermill": {
     "duration": 0.052306,
     "end_time": "2021-01-09T15:39:59.490324",
     "exception": false,
     "start_time": "2021-01-09T15:39:59.438018",
     "status": "completed"
    },
    "tags": []
   },
   "outputs": [
    {
     "data": {
      "text/plain": [
       "0.005115926455561129"
      ]
     },
     "execution_count": 27,
     "metadata": {},
     "output_type": "execute_result"
    }
   ],
   "source": [
    "mse=metrics.mean_squared_error(Y_test,pred)\n",
    "mse"
   ]
  },
  {
   "cell_type": "code",
   "execution_count": 28,
   "metadata": {
    "execution": {
     "iopub.execute_input": "2021-01-09T15:39:59.584779Z",
     "iopub.status.busy": "2021-01-09T15:39:59.583813Z",
     "iopub.status.idle": "2021-01-09T15:39:59.589983Z",
     "shell.execute_reply": "2021-01-09T15:39:59.589083Z"
    },
    "papermill": {
     "duration": 0.059481,
     "end_time": "2021-01-09T15:39:59.590140",
     "exception": false,
     "start_time": "2021-01-09T15:39:59.530659",
     "status": "completed"
    },
    "tags": []
   },
   "outputs": [
    {
     "data": {
      "text/html": [
       "<div>\n",
       "<style scoped>\n",
       "    .dataframe tbody tr th:only-of-type {\n",
       "        vertical-align: middle;\n",
       "    }\n",
       "\n",
       "    .dataframe tbody tr th {\n",
       "        vertical-align: top;\n",
       "    }\n",
       "\n",
       "    .dataframe thead th {\n",
       "        text-align: right;\n",
       "    }\n",
       "</style>\n",
       "<table border=\"1\" class=\"dataframe\">\n",
       "  <thead>\n",
       "    <tr style=\"text-align: right;\">\n",
       "      <th></th>\n",
       "      <th>CGPA</th>\n",
       "      <th>GRE Score</th>\n",
       "      <th>TOEFL Score</th>\n",
       "      <th>Research</th>\n",
       "      <th>University Rating</th>\n",
       "    </tr>\n",
       "  </thead>\n",
       "  <tbody>\n",
       "    <tr>\n",
       "      <th>132</th>\n",
       "      <td>8.56</td>\n",
       "      <td>309</td>\n",
       "      <td>105</td>\n",
       "      <td>0</td>\n",
       "      <td>5</td>\n",
       "    </tr>\n",
       "    <tr>\n",
       "      <th>309</th>\n",
       "      <td>8.60</td>\n",
       "      <td>308</td>\n",
       "      <td>110</td>\n",
       "      <td>0</td>\n",
       "      <td>4</td>\n",
       "    </tr>\n",
       "    <tr>\n",
       "      <th>341</th>\n",
       "      <td>8.76</td>\n",
       "      <td>326</td>\n",
       "      <td>110</td>\n",
       "      <td>1</td>\n",
       "      <td>3</td>\n",
       "    </tr>\n",
       "    <tr>\n",
       "      <th>196</th>\n",
       "      <td>8.26</td>\n",
       "      <td>306</td>\n",
       "      <td>105</td>\n",
       "      <td>0</td>\n",
       "      <td>2</td>\n",
       "    </tr>\n",
       "    <tr>\n",
       "      <th>246</th>\n",
       "      <td>8.73</td>\n",
       "      <td>316</td>\n",
       "      <td>105</td>\n",
       "      <td>0</td>\n",
       "      <td>3</td>\n",
       "    </tr>\n",
       "    <tr>\n",
       "      <th>...</th>\n",
       "      <td>...</td>\n",
       "      <td>...</td>\n",
       "      <td>...</td>\n",
       "      <td>...</td>\n",
       "      <td>...</td>\n",
       "    </tr>\n",
       "    <tr>\n",
       "      <th>14</th>\n",
       "      <td>8.20</td>\n",
       "      <td>311</td>\n",
       "      <td>104</td>\n",
       "      <td>1</td>\n",
       "      <td>3</td>\n",
       "    </tr>\n",
       "    <tr>\n",
       "      <th>363</th>\n",
       "      <td>8.36</td>\n",
       "      <td>306</td>\n",
       "      <td>103</td>\n",
       "      <td>0</td>\n",
       "      <td>2</td>\n",
       "    </tr>\n",
       "    <tr>\n",
       "      <th>304</th>\n",
       "      <td>8.43</td>\n",
       "      <td>313</td>\n",
       "      <td>106</td>\n",
       "      <td>0</td>\n",
       "      <td>2</td>\n",
       "    </tr>\n",
       "    <tr>\n",
       "      <th>361</th>\n",
       "      <td>9.54</td>\n",
       "      <td>334</td>\n",
       "      <td>116</td>\n",
       "      <td>1</td>\n",
       "      <td>4</td>\n",
       "    </tr>\n",
       "    <tr>\n",
       "      <th>329</th>\n",
       "      <td>7.89</td>\n",
       "      <td>297</td>\n",
       "      <td>96</td>\n",
       "      <td>0</td>\n",
       "      <td>2</td>\n",
       "    </tr>\n",
       "  </tbody>\n",
       "</table>\n",
       "<p>80 rows × 5 columns</p>\n",
       "</div>"
      ],
      "text/plain": [
       "     CGPA  GRE Score  TOEFL Score  Research  University Rating\n",
       "132  8.56        309          105         0                  5\n",
       "309  8.60        308          110         0                  4\n",
       "341  8.76        326          110         1                  3\n",
       "196  8.26        306          105         0                  2\n",
       "246  8.73        316          105         0                  3\n",
       "..    ...        ...          ...       ...                ...\n",
       "14   8.20        311          104         1                  3\n",
       "363  8.36        306          103         0                  2\n",
       "304  8.43        313          106         0                  2\n",
       "361  9.54        334          116         1                  4\n",
       "329  7.89        297           96         0                  2\n",
       "\n",
       "[80 rows x 5 columns]"
      ]
     },
     "execution_count": 28,
     "metadata": {},
     "output_type": "execute_result"
    }
   ],
   "source": [
    "X_test"
   ]
  },
  {
   "cell_type": "code",
   "execution_count": 29,
   "metadata": {
    "execution": {
     "iopub.execute_input": "2021-01-09T15:39:59.689236Z",
     "iopub.status.busy": "2021-01-09T15:39:59.688597Z",
     "iopub.status.idle": "2021-01-09T15:39:59.701440Z",
     "shell.execute_reply": "2021-01-09T15:39:59.701969Z"
    },
    "papermill": {
     "duration": 0.06713,
     "end_time": "2021-01-09T15:39:59.702108",
     "exception": false,
     "start_time": "2021-01-09T15:39:59.634978",
     "status": "completed"
    },
    "tags": []
   },
   "outputs": [
    {
     "data": {
      "text/html": [
       "<div>\n",
       "<style scoped>\n",
       "    .dataframe tbody tr th:only-of-type {\n",
       "        vertical-align: middle;\n",
       "    }\n",
       "\n",
       "    .dataframe tbody tr th {\n",
       "        vertical-align: top;\n",
       "    }\n",
       "\n",
       "    .dataframe thead th {\n",
       "        text-align: right;\n",
       "    }\n",
       "</style>\n",
       "<table border=\"1\" class=\"dataframe\">\n",
       "  <thead>\n",
       "    <tr style=\"text-align: right;\">\n",
       "      <th></th>\n",
       "      <th>Chance of Admit</th>\n",
       "    </tr>\n",
       "  </thead>\n",
       "  <tbody>\n",
       "    <tr>\n",
       "      <th>132</th>\n",
       "      <td>0.71</td>\n",
       "    </tr>\n",
       "    <tr>\n",
       "      <th>309</th>\n",
       "      <td>0.70</td>\n",
       "    </tr>\n",
       "    <tr>\n",
       "      <th>341</th>\n",
       "      <td>0.79</td>\n",
       "    </tr>\n",
       "    <tr>\n",
       "      <th>196</th>\n",
       "      <td>0.73</td>\n",
       "    </tr>\n",
       "    <tr>\n",
       "      <th>246</th>\n",
       "      <td>0.72</td>\n",
       "    </tr>\n",
       "    <tr>\n",
       "      <th>...</th>\n",
       "      <td>...</td>\n",
       "    </tr>\n",
       "    <tr>\n",
       "      <th>14</th>\n",
       "      <td>0.61</td>\n",
       "    </tr>\n",
       "    <tr>\n",
       "      <th>363</th>\n",
       "      <td>0.69</td>\n",
       "    </tr>\n",
       "    <tr>\n",
       "      <th>304</th>\n",
       "      <td>0.62</td>\n",
       "    </tr>\n",
       "    <tr>\n",
       "      <th>361</th>\n",
       "      <td>0.93</td>\n",
       "    </tr>\n",
       "    <tr>\n",
       "      <th>329</th>\n",
       "      <td>0.43</td>\n",
       "    </tr>\n",
       "  </tbody>\n",
       "</table>\n",
       "<p>80 rows × 1 columns</p>\n",
       "</div>"
      ],
      "text/plain": [
       "     Chance of Admit \n",
       "132              0.71\n",
       "309              0.70\n",
       "341              0.79\n",
       "196              0.73\n",
       "246              0.72\n",
       "..                ...\n",
       "14               0.61\n",
       "363              0.69\n",
       "304              0.62\n",
       "361              0.93\n",
       "329              0.43\n",
       "\n",
       "[80 rows x 1 columns]"
      ]
     },
     "execution_count": 29,
     "metadata": {},
     "output_type": "execute_result"
    }
   ],
   "source": [
    "Y_test"
   ]
  },
  {
   "cell_type": "code",
   "execution_count": 30,
   "metadata": {
    "execution": {
     "iopub.execute_input": "2021-01-09T15:39:59.799748Z",
     "iopub.status.busy": "2021-01-09T15:39:59.798806Z",
     "iopub.status.idle": "2021-01-09T15:39:59.805740Z",
     "shell.execute_reply": "2021-01-09T15:39:59.805181Z"
    },
    "papermill": {
     "duration": 0.056937,
     "end_time": "2021-01-09T15:39:59.805861",
     "exception": false,
     "start_time": "2021-01-09T15:39:59.748924",
     "status": "completed"
    },
    "tags": []
   },
   "outputs": [
    {
     "name": "stdout",
     "output_type": "stream",
     "text": [
      "[[0.70623199]]\n"
     ]
    }
   ],
   "source": [
    "user_input = [[8.56,309,105,0,5]] #user input from testing data\n",
    "user_pred = reg.predict(user_input)\n",
    "print(user_pred)"
   ]
  },
  {
   "cell_type": "code",
   "execution_count": 31,
   "metadata": {
    "execution": {
     "iopub.execute_input": "2021-01-09T15:39:59.926569Z",
     "iopub.status.busy": "2021-01-09T15:39:59.925949Z",
     "iopub.status.idle": "2021-01-09T15:39:59.928913Z",
     "shell.execute_reply": "2021-01-09T15:39:59.929543Z"
    },
    "papermill": {
     "duration": 0.073549,
     "end_time": "2021-01-09T15:39:59.929678",
     "exception": false,
     "start_time": "2021-01-09T15:39:59.856129",
     "status": "completed"
    },
    "tags": []
   },
   "outputs": [
    {
     "name": "stdout",
     "output_type": "stream",
     "text": [
      "[92.27656667]\n"
     ]
    }
   ],
   "source": [
    "user_input = [[9.54,334,116,1,4]] #user input from testing data\n",
    "user_pred = reg.predict(user_input)\n",
    "print((user_pred.flatten()*100).astype(float))"
   ]
  },
  {
   "cell_type": "code",
   "execution_count": 32,
   "metadata": {
    "execution": {
     "iopub.execute_input": "2021-01-09T15:40:00.019853Z",
     "iopub.status.busy": "2021-01-09T15:40:00.019262Z",
     "iopub.status.idle": "2021-01-09T15:40:00.023261Z",
     "shell.execute_reply": "2021-01-09T15:40:00.023697Z"
    },
    "papermill": {
     "duration": 0.050474,
     "end_time": "2021-01-09T15:40:00.023810",
     "exception": false,
     "start_time": "2021-01-09T15:39:59.973336",
     "status": "completed"
    },
    "tags": []
   },
   "outputs": [],
   "source": [
    "import pickle"
   ]
  },
  {
   "cell_type": "code",
   "execution_count": 33,
   "metadata": {
    "execution": {
     "iopub.execute_input": "2021-01-09T15:40:00.110961Z",
     "iopub.status.busy": "2021-01-09T15:40:00.110406Z",
     "iopub.status.idle": "2021-01-09T15:40:00.115637Z",
     "shell.execute_reply": "2021-01-09T15:40:00.116144Z"
    },
    "papermill": {
     "duration": 0.050331,
     "end_time": "2021-01-09T15:40:00.116282",
     "exception": false,
     "start_time": "2021-01-09T15:40:00.065951",
     "status": "completed"
    },
    "tags": []
   },
   "outputs": [],
   "source": [
    "pickle.dump(reg,open('new_model.pkl','wb'))"
   ]
  },
  {
   "cell_type": "code",
   "execution_count": null,
   "metadata": {
    "papermill": {
     "duration": 0.043025,
     "end_time": "2021-01-09T15:40:00.203865",
     "exception": false,
     "start_time": "2021-01-09T15:40:00.160840",
     "status": "completed"
    },
    "tags": []
   },
   "outputs": [],
   "source": []
  }
 ],
 "metadata": {
  "kernelspec": {
   "display_name": "Python 3",
   "language": "python",
   "name": "python3"
  },
  "language_info": {
   "codemirror_mode": {
    "name": "ipython",
    "version": 3
   },
   "file_extension": ".py",
   "mimetype": "text/x-python",
   "name": "python",
   "nbconvert_exporter": "python",
   "pygments_lexer": "ipython3",
   "version": "3.7.6"
  },
  "papermill": {
   "duration": 12.12741,
   "end_time": "2021-01-09T15:40:00.355907",
   "environment_variables": {},
   "exception": null,
   "input_path": "__notebook__.ipynb",
   "output_path": "__notebook__.ipynb",
   "parameters": {},
   "start_time": "2021-01-09T15:39:48.228497",
   "version": "2.1.0"
  }
 },
 "nbformat": 4,
 "nbformat_minor": 4
}
